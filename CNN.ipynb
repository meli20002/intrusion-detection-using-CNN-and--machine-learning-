{
 "cells": [
  {
   "cell_type": "code",
   "execution_count": 1,
   "id": "988d10a2",
   "metadata": {},
   "outputs": [],
   "source": [
    "import pandas as pd\n",
    "import numpy as np\n",
    "import matplotlib.pyplot as plt\n",
    "import torch\n",
    "import torch.nn as nn\n",
    "import torch.optim as optim\n",
    "from sklearn.preprocessing import MinMaxScaler\n",
    "from torch.utils.data import Dataset,DataLoader"
   ]
  },
  {
   "cell_type": "code",
   "execution_count": 2,
   "id": "57f2e84b",
   "metadata": {},
   "outputs": [],
   "source": [
    "columns= [\n",
    "        'duration', 'protocol_type', 'service', 'flag', 'src_bytes', 'dst_bytes', 'land',\n",
    "        'wrong_fragment', 'urgent', 'hot', 'num_failed_logins', 'logged_in', 'num_compromised',\n",
    "        'root_shell', 'su_attempted', 'num_root', 'num_file_creations', 'num_shells',\n",
    "        'num_access_files', 'num_outbound_cmds', 'is_host_login', 'is_guest_login', 'count',\n",
    "        'srv_count', 'serror_rate', 'srv_serror_rate', 'rerror_rate', 'srv_rerror_rate',\n",
    "        'same_srv_rate', 'diff_srv_rate', 'srv_diff_host_rate', 'dst_host_count',\n",
    "        'dst_host_srv_count', 'dst_host_same_srv_rate', 'dst_host_diff_srv_rate',\n",
    "        'dst_host_same_src_port_rate', 'dst_host_srv_diff_host_rate', 'dst_host_serror_rate',\n",
    "        'dst_host_srv_serror_rate', 'dst_host_rerror_rate', 'dst_host_srv_rerror_rate',\n",
    "        'attack_label', 'difficulty'\n",
    "    ]"
   ]
  },
  {
   "cell_type": "code",
   "execution_count": 37,
   "id": "7785f260",
   "metadata": {},
   "outputs": [],
   "source": [
    "train=pd.read_csv('data/KDDTrain+.txt',names=columns)"
   ]
  },
  {
   "cell_type": "code",
   "execution_count": 12,
   "id": "93e3fcfb",
   "metadata": {},
   "outputs": [
    {
     "name": "stdout",
     "output_type": "stream",
     "text": [
      "<class 'pandas.core.frame.DataFrame'>\n",
      "RangeIndex: 125973 entries, 0 to 125972\n",
      "Data columns (total 43 columns):\n",
      " #   Column                       Non-Null Count   Dtype  \n",
      "---  ------                       --------------   -----  \n",
      " 0   duration                     125973 non-null  int64  \n",
      " 1   protocol_type                125973 non-null  object \n",
      " 2   service                      125973 non-null  object \n",
      " 3   flag                         125973 non-null  object \n",
      " 4   src_bytes                    125973 non-null  int64  \n",
      " 5   dst_bytes                    125973 non-null  int64  \n",
      " 6   land                         125973 non-null  int64  \n",
      " 7   wrong_fragment               125973 non-null  int64  \n",
      " 8   urgent                       125973 non-null  int64  \n",
      " 9   hot                          125973 non-null  int64  \n",
      " 10  num_failed_logins            125973 non-null  int64  \n",
      " 11  logged_in                    125973 non-null  int64  \n",
      " 12  num_compromised              125973 non-null  int64  \n",
      " 13  root_shell                   125973 non-null  int64  \n",
      " 14  su_attempted                 125973 non-null  int64  \n",
      " 15  num_root                     125973 non-null  int64  \n",
      " 16  num_file_creations           125973 non-null  int64  \n",
      " 17  num_shells                   125973 non-null  int64  \n",
      " 18  num_access_files             125973 non-null  int64  \n",
      " 19  num_outbound_cmds            125973 non-null  int64  \n",
      " 20  is_host_login                125973 non-null  int64  \n",
      " 21  is_guest_login               125973 non-null  int64  \n",
      " 22  count                        125973 non-null  int64  \n",
      " 23  srv_count                    125973 non-null  int64  \n",
      " 24  serror_rate                  125973 non-null  float64\n",
      " 25  srv_serror_rate              125973 non-null  float64\n",
      " 26  rerror_rate                  125973 non-null  float64\n",
      " 27  srv_rerror_rate              125973 non-null  float64\n",
      " 28  same_srv_rate                125973 non-null  float64\n",
      " 29  diff_srv_rate                125973 non-null  float64\n",
      " 30  srv_diff_host_rate           125973 non-null  float64\n",
      " 31  dst_host_count               125973 non-null  int64  \n",
      " 32  dst_host_srv_count           125973 non-null  int64  \n",
      " 33  dst_host_same_srv_rate       125973 non-null  float64\n",
      " 34  dst_host_diff_srv_rate       125973 non-null  float64\n",
      " 35  dst_host_same_src_port_rate  125973 non-null  float64\n",
      " 36  dst_host_srv_diff_host_rate  125973 non-null  float64\n",
      " 37  dst_host_serror_rate         125973 non-null  float64\n",
      " 38  dst_host_srv_serror_rate     125973 non-null  float64\n",
      " 39  dst_host_rerror_rate         125973 non-null  float64\n",
      " 40  dst_host_srv_rerror_rate     125973 non-null  float64\n",
      " 41  attack_label                 125973 non-null  object \n",
      " 42  difficulty                   125973 non-null  int64  \n",
      "dtypes: float64(15), int64(24), object(4)\n",
      "memory usage: 41.3+ MB\n"
     ]
    }
   ],
   "source": [
    "train.info()"
   ]
  },
  {
   "cell_type": "code",
   "execution_count": 38,
   "id": "ce339f00",
   "metadata": {},
   "outputs": [],
   "source": [
    "train['protocol_type']=train['protocol_type'].astype('category').cat.codes\n",
    "train['service']=train['service'].astype('category').cat.codes\n",
    "train['flag']=train['flag'].astype('category').cat.codes"
   ]
  },
  {
   "cell_type": "code",
   "execution_count": 39,
   "id": "9ff14884",
   "metadata": {},
   "outputs": [],
   "source": [
    "X=train.drop('attack_label',axis=1)\n",
    "X=X.values\n",
    "y=train['attack_label'].apply(lambda x:0 if x==\"normal\" else 1)\n",
    "y=y.values"
   ]
  },
  {
   "cell_type": "code",
   "execution_count": 50,
   "id": "3beafa97",
   "metadata": {},
   "outputs": [],
   "source": [
    "\n",
    "#categorical_features = ['protocol_type', 'service', 'flag']\n",
    "#df_encoded = pd.get_dummies(df, columns=categorical_features)\n",
    "\n",
    "#df_processed = df_encoded.drop('attack_label', axis=1)\n",
    "scaler = MinMaxScaler()\n",
    "df_normalized = scaler.fit_transform(X)\n"
   ]
  },
  {
   "cell_type": "code",
   "execution_count": 41,
   "id": "4d281e46",
   "metadata": {},
   "outputs": [],
   "source": [
    "class NSLKDD(Dataset):\n",
    "    def __init__(self,data,lables):\n",
    "        self.data=torch.tensor(data,dtype=torch.float32)\n",
    "        self.lables=torch.tensor(lables,dtype=torch.long)\n",
    "    def __len__(self):\n",
    "        return len(self.data)\n",
    "    def __getitem__(self, index):\n",
    "         return self.data[index], self.lables[index]\n",
    "    "
   ]
  },
  {
   "cell_type": "code",
   "execution_count": 51,
   "id": "fb32068c",
   "metadata": {},
   "outputs": [],
   "source": [
    "dataset=NSLKDD(df_normalized,y)\n",
    "data_loader=DataLoader(dataset,batch_size=32,shuffle=True)\n"
   ]
  },
  {
   "cell_type": "code",
   "execution_count": 48,
   "id": "3a6ad786",
   "metadata": {},
   "outputs": [
    {
     "name": "stdout",
     "output_type": "stream",
     "text": [
      "torch.Size([32, 42])\n"
     ]
    }
   ],
   "source": [
    "train_batch=next(iter(data_loader))[0]\n",
    "print(train_batch.shape)"
   ]
  },
  {
   "cell_type": "code",
   "execution_count": 43,
   "id": "50e9e8ac",
   "metadata": {},
   "outputs": [],
   "source": [
    "\n",
    "model=nn.Sequential(\n",
    "    nn.Conv1d(1,10,kernel_size=3),\n",
    "    nn.BatchNorm1d(10),\n",
    "    nn.ReLU(),\n",
    "    nn.MaxPool1d(2,2),\n",
    "    nn.Flatten(),\n",
    "    nn.Linear(200,128),\n",
    "    nn.ReLU(),\n",
    "    nn.Linear(128,2)\n",
    ")"
   ]
  },
  {
   "cell_type": "code",
   "execution_count": 52,
   "id": "5932f000",
   "metadata": {},
   "outputs": [
    {
     "name": "stdout",
     "output_type": "stream",
     "text": [
      "epoch :1, loss=0.0046921721659600735\n",
      "epoch :2, loss=0.0004011231940239668\n",
      "epoch :3, loss=0.07911551743745804\n",
      "epoch :4, loss=0.016105834394693375\n",
      "epoch :5, loss=4.983932740287855e-06\n",
      "epoch :6, loss=0.01872785948216915\n",
      "epoch :7, loss=3.0028663786652032e-06\n",
      "epoch :8, loss=0.0009316937648691237\n",
      "epoch :9, loss=0.0003788192698266357\n",
      "epoch :10, loss=0.030357426032423973\n",
      "epoch :11, loss=0.0009485709597356617\n",
      "epoch :12, loss=0.002627538051456213\n",
      "epoch :13, loss=5.2336647058837116e-05\n",
      "epoch :14, loss=1.3101166587148327e-05\n",
      "epoch :15, loss=0.008454369381070137\n",
      "epoch :16, loss=6.623101944569498e-05\n",
      "epoch :17, loss=3.431428922340274e-05\n",
      "epoch :18, loss=2.668010381512431e-07\n",
      "epoch :19, loss=1.1561968676687684e-05\n",
      "epoch :20, loss=0.0008123325533233583\n"
     ]
    }
   ],
   "source": [
    "crit=nn.CrossEntropyLoss()\n",
    "opt=optim.Adam(model.parameters(),lr=0.01)\n",
    "\n",
    "for epoch in range(20):\n",
    "    for batch_idx,(data,lable) in enumerate(data_loader):\n",
    "        \n",
    "        opt.zero_grad()\n",
    "        data=data.unsqueeze(1)\n",
    "        outputs=model(data)\n",
    "        loss=crit(outputs,lable)\n",
    "        loss.backward()\n",
    "        opt.step()\n",
    "    print(f\"epoch :{epoch+1}, loss={loss.item()}\")"
   ]
  },
  {
   "cell_type": "code",
   "execution_count": 53,
   "id": "a4235882",
   "metadata": {},
   "outputs": [],
   "source": [
    "test=pd.read_csv('data/KDDTest+.txt',names=columns)"
   ]
  },
  {
   "cell_type": "code",
   "execution_count": 54,
   "id": "157c803a",
   "metadata": {},
   "outputs": [],
   "source": [
    "test['protocol_type']=test['protocol_type'].astype('category').cat.codes\n",
    "test['service']=test['service'].astype('category').cat.codes\n",
    "test['flag']=test['flag'].astype('category').cat.codes"
   ]
  },
  {
   "cell_type": "code",
   "execution_count": 55,
   "id": "70ccbaad",
   "metadata": {},
   "outputs": [],
   "source": [
    "X_test=test.drop('attack_label',axis=1)\n",
    "X_test=X_test.values\n",
    "y_test=test['attack_label'].apply(lambda x:0 if x==\"normal\" else 1)\n",
    "y_test=y_test.values"
   ]
  },
  {
   "cell_type": "code",
   "execution_count": 56,
   "id": "23dc866e",
   "metadata": {},
   "outputs": [],
   "source": [
    "\n",
    "test_normalized = scaler.transform(X_test)"
   ]
  },
  {
   "cell_type": "code",
   "execution_count": 57,
   "id": "48861271",
   "metadata": {},
   "outputs": [],
   "source": [
    "test_dataset=NSLKDD(test_normalized,y_test)\n",
    "test_loader=DataLoader(test_dataset,batch_size=32,shuffle=False)"
   ]
  },
  {
   "cell_type": "code",
   "execution_count": 58,
   "id": "837d29e9",
   "metadata": {},
   "outputs": [],
   "source": [
    "\n",
    "all_probs = torch.tensor([])\n",
    "model.eval()\n",
    "\n",
    "with torch.no_grad():\n",
    "    for idx,(data,lable) in enumerate(test_loader):\n",
    "        output=model(data.unsqueeze(1))\n",
    "        probs=torch.nn.functional.softmax(output,dim=1)\n",
    "\n",
    "        all_probs=torch.cat((all_probs,probs),dim=0)\n",
    "\n",
    "prediction=torch.argmax(all_probs,dim=1)"
   ]
  },
  {
   "cell_type": "code",
   "execution_count": 59,
   "id": "b87eafc9",
   "metadata": {},
   "outputs": [
    {
     "name": "stdout",
     "output_type": "stream",
     "text": [
      "Accuracy: 0.8387\n",
      "Precision: 0.9665\n",
      "Recall: 0.7424\n",
      "F1-score: 0.8398\n"
     ]
    }
   ],
   "source": [
    "from sklearn.metrics import accuracy_score, precision_score, recall_score, f1_score\n",
    "\n",
    "# Get true labels from your test dataset\n",
    "true_labels = y_test\n",
    "\n",
    "# Calculate metrics\n",
    "accuracy = accuracy_score(true_labels, prediction.numpy())\n",
    "precision = precision_score(true_labels, prediction.numpy())\n",
    "recall = recall_score(true_labels, prediction.numpy())\n",
    "f1 = f1_score(true_labels, prediction.numpy())\n",
    "\n",
    "print(f\"Accuracy: {accuracy:.4f}\")\n",
    "print(f\"Precision: {precision:.4f}\")\n",
    "print(f\"Recall: {recall:.4f}\")\n",
    "print(f\"F1-score: {f1:.4f}\")"
   ]
  }
 ],
 "metadata": {
  "kernelspec": {
   "display_name": "Python 3",
   "language": "python",
   "name": "python3"
  },
  "language_info": {
   "codemirror_mode": {
    "name": "ipython",
    "version": 3
   },
   "file_extension": ".py",
   "mimetype": "text/x-python",
   "name": "python",
   "nbconvert_exporter": "python",
   "pygments_lexer": "ipython3",
   "version": "3.12.5"
  }
 },
 "nbformat": 4,
 "nbformat_minor": 5
}
