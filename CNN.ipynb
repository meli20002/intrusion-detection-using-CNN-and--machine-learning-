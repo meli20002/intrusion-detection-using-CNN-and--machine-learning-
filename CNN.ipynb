{
 "cells": [
  {
   "cell_type": "code",
   "execution_count": 1,
   "id": "988d10a2",
   "metadata": {},
   "outputs": [],
   "source": [
    "import pandas as pd\n",
    "import numpy as np\n",
    "import matplotlib.pyplot as plt\n",
    "import torch\n",
    "import torch.nn as nn\n",
    "import torch.optim as optim\n",
    "from sklearn.preprocessing import MinMaxScaler\n",
    "from torch.utils.data import Dataset,DataLoader"
   ]
  },
  {
   "cell_type": "code",
   "execution_count": 2,
   "id": "57f2e84b",
   "metadata": {},
   "outputs": [],
   "source": [
    "columns= [\n",
    "        'duration', 'protocol_type', 'service', 'flag', 'src_bytes', 'dst_bytes', 'land',\n",
    "        'wrong_fragment', 'urgent', 'hot', 'num_failed_logins', 'logged_in', 'num_compromised',\n",
    "        'root_shell', 'su_attempted', 'num_root', 'num_file_creations', 'num_shells',\n",
    "        'num_access_files', 'num_outbound_cmds', 'is_host_login', 'is_guest_login', 'count',\n",
    "        'srv_count', 'serror_rate', 'srv_serror_rate', 'rerror_rate', 'srv_rerror_rate',\n",
    "        'same_srv_rate', 'diff_srv_rate', 'srv_diff_host_rate', 'dst_host_count',\n",
    "        'dst_host_srv_count', 'dst_host_same_srv_rate', 'dst_host_diff_srv_rate',\n",
    "        'dst_host_same_src_port_rate', 'dst_host_srv_diff_host_rate', 'dst_host_serror_rate',\n",
    "        'dst_host_srv_serror_rate', 'dst_host_rerror_rate', 'dst_host_srv_rerror_rate',\n",
    "        'attack_label', 'difficulty'\n",
    "    ]"
   ]
  },
  {
   "cell_type": "code",
   "execution_count": 8,
   "id": "7785f260",
   "metadata": {},
   "outputs": [],
   "source": [
    "df=pd.read_csv('data/KDDTrain+.txt',names=columns)"
   ]
  },
  {
   "cell_type": "code",
   "execution_count": 4,
   "id": "93e3fcfb",
   "metadata": {},
   "outputs": [
    {
     "name": "stdout",
     "output_type": "stream",
     "text": [
      "<class 'pandas.core.frame.DataFrame'>\n",
      "RangeIndex: 125973 entries, 0 to 125972\n",
      "Data columns (total 43 columns):\n",
      " #   Column                       Non-Null Count   Dtype  \n",
      "---  ------                       --------------   -----  \n",
      " 0   duration                     125973 non-null  int64  \n",
      " 1   protocol_type                125973 non-null  object \n",
      " 2   service                      125973 non-null  object \n",
      " 3   flag                         125973 non-null  object \n",
      " 4   src_bytes                    125973 non-null  int64  \n",
      " 5   dst_bytes                    125973 non-null  int64  \n",
      " 6   land                         125973 non-null  int64  \n",
      " 7   wrong_fragment               125973 non-null  int64  \n",
      " 8   urgent                       125973 non-null  int64  \n",
      " 9   hot                          125973 non-null  int64  \n",
      " 10  num_failed_logins            125973 non-null  int64  \n",
      " 11  logged_in                    125973 non-null  int64  \n",
      " 12  num_compromised              125973 non-null  int64  \n",
      " 13  root_shell                   125973 non-null  int64  \n",
      " 14  su_attempted                 125973 non-null  int64  \n",
      " 15  num_root                     125973 non-null  int64  \n",
      " 16  num_file_creations           125973 non-null  int64  \n",
      " 17  num_shells                   125973 non-null  int64  \n",
      " 18  num_access_files             125973 non-null  int64  \n",
      " 19  num_outbound_cmds            125973 non-null  int64  \n",
      " 20  is_host_login                125973 non-null  int64  \n",
      " 21  is_guest_login               125973 non-null  int64  \n",
      " 22  count                        125973 non-null  int64  \n",
      " 23  srv_count                    125973 non-null  int64  \n",
      " 24  serror_rate                  125973 non-null  float64\n",
      " 25  srv_serror_rate              125973 non-null  float64\n",
      " 26  rerror_rate                  125973 non-null  float64\n",
      " 27  srv_rerror_rate              125973 non-null  float64\n",
      " 28  same_srv_rate                125973 non-null  float64\n",
      " 29  diff_srv_rate                125973 non-null  float64\n",
      " 30  srv_diff_host_rate           125973 non-null  float64\n",
      " 31  dst_host_count               125973 non-null  int64  \n",
      " 32  dst_host_srv_count           125973 non-null  int64  \n",
      " 33  dst_host_same_srv_rate       125973 non-null  float64\n",
      " 34  dst_host_diff_srv_rate       125973 non-null  float64\n",
      " 35  dst_host_same_src_port_rate  125973 non-null  float64\n",
      " 36  dst_host_srv_diff_host_rate  125973 non-null  float64\n",
      " 37  dst_host_serror_rate         125973 non-null  float64\n",
      " 38  dst_host_srv_serror_rate     125973 non-null  float64\n",
      " 39  dst_host_rerror_rate         125973 non-null  float64\n",
      " 40  dst_host_srv_rerror_rate     125973 non-null  float64\n",
      " 41  attack_label                 125973 non-null  object \n",
      " 42  difficulty                   125973 non-null  int64  \n",
      "dtypes: float64(15), int64(24), object(4)\n",
      "memory usage: 41.3+ MB\n"
     ]
    }
   ],
   "source": [
    "df.info()"
   ]
  },
  {
   "cell_type": "code",
   "execution_count": 43,
   "id": "3beafa97",
   "metadata": {},
   "outputs": [],
   "source": [
    "\n",
    "categorical_features = ['protocol_type', 'service', 'flag']\n",
    "df_encoded = pd.get_dummies(df, columns=categorical_features)\n",
    "\n",
    "\n",
    "df_processed = df_encoded.drop('attack_label', axis=1)\n",
    "scaler = MinMaxScaler()\n",
    "df_normalized = scaler.fit_transform(df_processed)\n"
   ]
  },
  {
   "cell_type": "code",
   "execution_count": 44,
   "id": "70b4c104",
   "metadata": {},
   "outputs": [
    {
     "data": {
      "text/plain": [
       "(125973, 123)"
      ]
     },
     "execution_count": 44,
     "metadata": {},
     "output_type": "execute_result"
    }
   ],
   "source": [
    "df_normalized.shape"
   ]
  },
  {
   "cell_type": "code",
   "execution_count": 45,
   "id": "4d281e46",
   "metadata": {},
   "outputs": [],
   "source": [
    "class NSLKDD(Dataset):\n",
    "    def __init__(self,data,lables):\n",
    "        self.data=torch.tensor(data,dtype=torch.float32)\n",
    "        self.lables=torch.tensor(lables,dtype=torch.long)\n",
    "    def __len__(self):\n",
    "        return len(self.data)\n",
    "    def __getitem__(self, index):\n",
    "         return self.data[index], self.lables[index]\n",
    "    "
   ]
  },
  {
   "cell_type": "code",
   "execution_count": 46,
   "id": "fb32068c",
   "metadata": {},
   "outputs": [],
   "source": [
    "dataset=NSLKDD(df_normalized,df['attack_label'].apply(lambda x:0 if x==\"normal\" else 1))\n",
    "data_loader=DataLoader(dataset,batch_size=32,shuffle=True)\n"
   ]
  },
  {
   "cell_type": "code",
   "execution_count": 47,
   "id": "3a6ad786",
   "metadata": {},
   "outputs": [
    {
     "name": "stdout",
     "output_type": "stream",
     "text": [
      "torch.Size([32, 123])\n"
     ]
    }
   ],
   "source": [
    "train_batch=next(iter(data_loader))[0]\n",
    "print(train_batch.shape)"
   ]
  },
  {
   "cell_type": "code",
   "execution_count": 66,
   "id": "50e9e8ac",
   "metadata": {},
   "outputs": [],
   "source": [
    "\n",
    "model=nn.Sequential(\n",
    "    nn.Conv1d(1,10,kernel_size=3),\n",
    "    nn.BatchNorm1d(10),\n",
    "    nn.ReLU(),\n",
    "    nn.MaxPool1d(2,2),\n",
    "    nn.Flatten(),\n",
    "    nn.Linear(600,128),\n",
    "    nn.ReLU(),\n",
    "    nn.Linear(128,2)\n",
    ")"
   ]
  },
  {
   "cell_type": "code",
   "execution_count": 70,
   "id": "5932f000",
   "metadata": {},
   "outputs": [
    {
     "name": "stdout",
     "output_type": "stream",
     "text": [
      "epoch :1, loss=0.04767533764243126\n",
      "epoch :2, loss=0.00010196235962212086\n",
      "epoch :3, loss=0.0017329599941149354\n",
      "epoch :4, loss=0.0002173951215809211\n",
      "epoch :5, loss=0.0003811268543358892\n",
      "epoch :6, loss=0.007362586446106434\n",
      "epoch :7, loss=3.3237669413210824e-05\n",
      "epoch :8, loss=6.454496906371787e-05\n",
      "epoch :9, loss=0.00020141180721111596\n",
      "epoch :10, loss=0.0\n"
     ]
    }
   ],
   "source": [
    "crit=nn.CrossEntropyLoss()\n",
    "opt=optim.Adam(model.parameters(),lr=0.01)\n",
    "\n",
    "for epoch in range(10):\n",
    "    for batch_idx,(data,lable) in enumerate(data_loader):\n",
    "        \n",
    "        opt.zero_grad()\n",
    "        data=data.unsqueeze(1)\n",
    "        outputs=model(data)\n",
    "        loss=crit(outputs,lable)\n",
    "        loss.backward()\n",
    "        opt.step()\n",
    "    print(f\"epoch :{epoch+1}, loss={loss.item()}\")"
   ]
  },
  {
   "cell_type": "code",
   "execution_count": 71,
   "id": "a4235882",
   "metadata": {},
   "outputs": [],
   "source": [
    "test=pd.read_csv('data/KDDTest-21.txt',names=columns)"
   ]
  },
  {
   "cell_type": "code",
   "execution_count": 72,
   "id": "157c803a",
   "metadata": {},
   "outputs": [],
   "source": [
    "test_encoded = pd.get_dummies(test, columns=categorical_features)\n",
    "test_encoded = test_encoded.reindex(columns=df_encoded.columns, fill_value=0)\n",
    "test_processed = test_encoded.drop('attack_label', axis=1)\n",
    "test_normalized = scaler.transform(test_processed)"
   ]
  },
  {
   "cell_type": "code",
   "execution_count": 73,
   "id": "48861271",
   "metadata": {},
   "outputs": [],
   "source": [
    "test_dataset=NSLKDD(test_normalized,test['attack_label'].apply(lambda x:0 if x==\"normal\" else 1))\n",
    "test_loader=DataLoader(test_dataset,batch_size=32,shuffle=False)"
   ]
  },
  {
   "cell_type": "code",
   "execution_count": 74,
   "id": "837d29e9",
   "metadata": {},
   "outputs": [],
   "source": [
    "\n",
    "all_probs = torch.tensor([])\n",
    "model.eval()\n",
    "\n",
    "with torch.no_grad():\n",
    "    for idx,(data,lable) in enumerate(test_loader):\n",
    "        output=model(data.unsqueeze(1))\n",
    "        probs=torch.nn.functional.softmax(output,dim=1)\n",
    "\n",
    "        all_probs=torch.cat((all_probs,probs),dim=0)\n",
    "\n",
    "prediction=torch.argmax(all_probs,dim=1)"
   ]
  },
  {
   "cell_type": "code",
   "execution_count": 75,
   "id": "b87eafc9",
   "metadata": {},
   "outputs": [
    {
     "name": "stdout",
     "output_type": "stream",
     "text": [
      "Accuracy: 0.7102\n",
      "Precision: 0.9516\n",
      "Recall: 0.6806\n",
      "F1-score: 0.7936\n"
     ]
    }
   ],
   "source": [
    "from sklearn.metrics import accuracy_score, precision_score, recall_score, f1_score\n",
    "\n",
    "# Get true labels from your test dataset\n",
    "true_labels = test['attack_label'].apply(lambda x: 0 if x == \"normal\" else 1).values\n",
    "\n",
    "# Calculate metrics\n",
    "accuracy = accuracy_score(true_labels, prediction.numpy())\n",
    "precision = precision_score(true_labels, prediction.numpy())\n",
    "recall = recall_score(true_labels, prediction.numpy())\n",
    "f1 = f1_score(true_labels, prediction.numpy())\n",
    "\n",
    "print(f\"Accuracy: {accuracy:.4f}\")\n",
    "print(f\"Precision: {precision:.4f}\")\n",
    "print(f\"Recall: {recall:.4f}\")\n",
    "print(f\"F1-score: {f1:.4f}\")"
   ]
  }
 ],
 "metadata": {
  "kernelspec": {
   "display_name": "Python 3",
   "language": "python",
   "name": "python3"
  },
  "language_info": {
   "codemirror_mode": {
    "name": "ipython",
    "version": 3
   },
   "file_extension": ".py",
   "mimetype": "text/x-python",
   "name": "python",
   "nbconvert_exporter": "python",
   "pygments_lexer": "ipython3",
   "version": "3.12.5"
  }
 },
 "nbformat": 4,
 "nbformat_minor": 5
}
