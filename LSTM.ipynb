{
 "cells": [
  {
   "cell_type": "code",
   "execution_count": 58,
   "id": "89ef8000",
   "metadata": {},
   "outputs": [],
   "source": [
    "import pandas as pd \n",
    "import numpy as np \n",
    "import matplotlib.pyplot as plt \n",
    "import seaborn\n",
    "from sklearn.preprocessing import StandardScaler,MinMaxScaler\n",
    "from sklearn.model_selection import train_test_split\n",
    "import torch\n",
    "import torch.nn as nn\n",
    "from torch.utils.data import Dataset,DataLoader\n",
    "import torch.optim as opt\n",
    "from sklearn.metrics import accuracy_score\n"
   ]
  },
  {
   "cell_type": "code",
   "execution_count": 2,
   "id": "1733cc93",
   "metadata": {},
   "outputs": [],
   "source": [
    "columns= [\n",
    "        'duration', 'protocol_type', 'service', 'flag', 'src_bytes', 'dst_bytes', 'land',\n",
    "        'wrong_fragment', 'urgent', 'hot', 'num_failed_logins', 'logged_in', 'num_compromised',\n",
    "        'root_shell', 'su_attempted', 'num_root', 'num_file_creations', 'num_shells',\n",
    "        'num_access_files', 'num_outbound_cmds', 'is_host_login', 'is_guest_login', 'count',\n",
    "        'srv_count', 'serror_rate', 'srv_serror_rate', 'rerror_rate', 'srv_rerror_rate',\n",
    "        'same_srv_rate', 'diff_srv_rate', 'srv_diff_host_rate', 'dst_host_count',\n",
    "        'dst_host_srv_count', 'dst_host_same_srv_rate', 'dst_host_diff_srv_rate',\n",
    "        'dst_host_same_src_port_rate', 'dst_host_srv_diff_host_rate', 'dst_host_serror_rate',\n",
    "        'dst_host_srv_serror_rate', 'dst_host_rerror_rate', 'dst_host_srv_rerror_rate',\n",
    "        'attack_label', 'difficulty'\n",
    "    ]"
   ]
  },
  {
   "cell_type": "code",
   "execution_count": 61,
   "id": "b6a148ff",
   "metadata": {},
   "outputs": [],
   "source": [
    "train=pd.read_csv('data/KDDTrain+.txt',names=columns)\n",
    "test=pd.read_csv('data/KDDTest+.txt',names=columns)"
   ]
  },
  {
   "cell_type": "code",
   "execution_count": 49,
   "id": "69fc180b",
   "metadata": {},
   "outputs": [
    {
     "data": {
      "text/plain": [
       "(125973, 43)"
      ]
     },
     "execution_count": 49,
     "metadata": {},
     "output_type": "execute_result"
    }
   ],
   "source": [
    "train.shape"
   ]
  },
  {
   "cell_type": "code",
   "execution_count": null,
   "id": "9c712105",
   "metadata": {},
   "outputs": [],
   "source": [
    "#convert categorical features to numerical  for the train dataset\n",
    "train['protocol_type']=train['protocol_type'].astype('category').cat.codes\n",
    "train['service']=train['service'].astype('category').cat.codes\n",
    "train['flag']=train['flag'].astype('category').cat.codes"
   ]
  },
  {
   "cell_type": "code",
   "execution_count": 63,
   "id": "117acfab",
   "metadata": {},
   "outputs": [],
   "source": [
    "#convert categorical features to numerical for the test dataset\n",
    "test['protocol_type']=test['protocol_type'].astype('category').cat.codes\n",
    "test['service']=test['service'].astype('category').cat.codes\n",
    "test['flag']=test['flag'].astype('category').cat.codes"
   ]
  },
  {
   "cell_type": "code",
   "execution_count": 46,
   "id": "86d9a83d",
   "metadata": {},
   "outputs": [],
   "source": [
    "X=train.drop('attack_label',axis=1)\n",
    "X=X.values\n",
    "y=train['attack_label'].apply(lambda x:0 if x==\"normal\" else 1)\n",
    "y=y.values"
   ]
  },
  {
   "cell_type": "code",
   "execution_count": 64,
   "id": "5fefd364",
   "metadata": {},
   "outputs": [],
   "source": [
    "x=test.drop('attack_label',axis=1)\n",
    "x=x.values\n",
    "Y=test['attack_label'].apply(lambda x:0 if x==\"normal\" else 1)\n",
    "Y=Y.values"
   ]
  },
  {
   "cell_type": "code",
   "execution_count": 47,
   "id": "914ec593",
   "metadata": {},
   "outputs": [],
   "source": [
    "X_train,X_test,Y_train,Y_test=train_test_split(X,y,test_size=0.2,random_state=42)"
   ]
  },
  {
   "cell_type": "code",
   "execution_count": 48,
   "id": "a38db358",
   "metadata": {},
   "outputs": [
    {
     "data": {
      "text/plain": [
       "(100778, 42)"
      ]
     },
     "execution_count": 48,
     "metadata": {},
     "output_type": "execute_result"
    }
   ],
   "source": [
    "X_train.shape"
   ]
  },
  {
   "cell_type": "code",
   "execution_count": 30,
   "id": "6cabb326",
   "metadata": {},
   "outputs": [],
   "source": [
    "class NSLKDD(Dataset):\n",
    "    def __init__(self,data,lables):\n",
    "        self.data=torch.tensor(data,dtype=torch.float32)\n",
    "        self.lables=torch.tensor(lables,dtype=torch.long)\n",
    "    def __len__(self):\n",
    "        return len(self.data)\n",
    "    def __getitem__(self, index):\n",
    "         return self.data[index], self.lables[index]\n",
    "    "
   ]
  },
  {
   "cell_type": "code",
   "execution_count": 36,
   "id": "8ff091cc",
   "metadata": {},
   "outputs": [],
   "source": [
    "train_dataset=NSLKDD(X_train,Y_train)\n",
    "test_dataset=NSLKDD(X_test,Y_test)"
   ]
  },
  {
   "cell_type": "code",
   "execution_count": 65,
   "id": "f7315402",
   "metadata": {},
   "outputs": [],
   "source": [
    "val_dataset=NSLKDD(x,Y)"
   ]
  },
  {
   "cell_type": "code",
   "execution_count": null,
   "id": "8307069f",
   "metadata": {},
   "outputs": [],
   "source": []
  },
  {
   "cell_type": "code",
   "execution_count": 37,
   "id": "4dd2880d",
   "metadata": {},
   "outputs": [],
   "source": [
    "batch_size=32\n",
    "train_loader=DataLoader(train_dataset,batch_size=batch_size,shuffle=True)\n",
    "test_loader=DataLoader(test_dataset,batch_size=batch_size,shuffle=False)"
   ]
  },
  {
   "cell_type": "code",
   "execution_count": 66,
   "id": "f6dbc904",
   "metadata": {},
   "outputs": [],
   "source": [
    "val_loader=DataLoader(val_dataset,batch_size=batch_size,shuffle=False)"
   ]
  },
  {
   "cell_type": "code",
   "execution_count": 57,
   "id": "a5dc4a35",
   "metadata": {},
   "outputs": [
    {
     "name": "stdout",
     "output_type": "stream",
     "text": [
      "torch.Size([32, 42])\n"
     ]
    }
   ],
   "source": [
    "#batch shape\n",
    "test_batch_shape=next(iter(test_loader))[0].shape\n",
    "print(test_batch_shape)\n"
   ]
  },
  {
   "cell_type": "code",
   "execution_count": 56,
   "id": "f48a1a73",
   "metadata": {},
   "outputs": [
    {
     "name": "stdout",
     "output_type": "stream",
     "text": [
      "epoch 1 loss : 0.4198460578918457\n",
      "epoch 2 loss : 0.02098611183464527\n",
      "epoch 3 loss : 0.009137967601418495\n",
      "epoch 4 loss : 0.0850154384970665\n",
      "epoch 5 loss : 0.001560243428684771\n",
      "epoch 6 loss : 0.0006209042621776462\n",
      "epoch 7 loss : 0.007306045852601528\n",
      "epoch 8 loss : 0.0011268535163253546\n",
      "epoch 9 loss : 0.02387847565114498\n",
      "epoch 10 loss : 0.0006822795839980245\n"
     ]
    }
   ],
   "source": [
    "#creating the LSTM model \n",
    "input_dim=42\n",
    "hidden_dim=128\n",
    "output_dim=2\n",
    "\n",
    "lstm=nn.LSTM(input_size=input_dim,hidden_size=hidden_dim,num_layers=1,batch_first=True)\n",
    "fc=nn.Linear(hidden_dim,output_dim)\n",
    "\n",
    "def init_hidden(x):\n",
    "    h0=torch.zeros(1,x.size(0),hidden_dim)\n",
    "    c0=torch.zeros(1,x.size(0),hidden_dim)\n",
    "    return h0,c0\n",
    "\n",
    "def forward(x):\n",
    "    h0,c0=init_hidden(x)\n",
    "    out,_=lstm(x,(h0,c0))\n",
    "    out=out[:,-1,:]\n",
    "    out=fc(out)\n",
    "    return out\n",
    "\n",
    "cri=nn.CrossEntropyLoss()\n",
    "opt=opt.Adam(list(lstm.parameters())+list(fc.parameters()),lr=0.001)\n",
    "\n",
    "for epoch in range(10):\n",
    "    for batch in train_loader:\n",
    "        inputs,lables=batch\n",
    "        inputs=inputs.view(-1,1,input_dim)\n",
    "        opt.zero_grad()\n",
    "        outputs=forward(inputs)\n",
    "        loss=cri(outputs,lables)\n",
    "        loss.backward()\n",
    "        opt.step()\n",
    "\n",
    "    print(f\"epoch {epoch +1} loss : {loss.item()}\")\n",
    "\n",
    "\n"
   ]
  },
  {
   "cell_type": "code",
   "execution_count": 59,
   "id": "d5ce3cdb",
   "metadata": {},
   "outputs": [
    {
     "name": "stdout",
     "output_type": "stream",
     "text": [
      "accuracy 0.9864258781504267\n"
     ]
    }
   ],
   "source": [
    "model_output=[]\n",
    "\n",
    "with torch.no_grad():\n",
    "    for  batch in test_loader:\n",
    "        inputs,lables=batch\n",
    "        inputs=inputs.view(-1,1,input_dim)\n",
    "        outputs=forward(inputs)\n",
    "        model_output.extend(torch.argmax(outputs,dim=1))\n",
    "\n",
    "\n",
    "\n",
    "\n",
    "print(f\"accuracy {accuracy_score(Y_test,model_output)}\")\n"
   ]
  },
  {
   "cell_type": "code",
   "execution_count": 68,
   "id": "a81684dc",
   "metadata": {},
   "outputs": [
    {
     "name": "stdout",
     "output_type": "stream",
     "text": [
      "accuracy 0.7978619588360539\n"
     ]
    }
   ],
   "source": [
    "model_output_val=[\n",
    "    \n",
    "]\n",
    "\n",
    "with torch.no_grad():\n",
    "    for batch in val_loader:\n",
    "        inputs,lables=batch\n",
    "        inputs=inputs.view(-1,1,input_dim)\n",
    "        outputs=forward(inputs)\n",
    "        model_output_val.extend(torch.argmax(outputs,dim=1))\n",
    "print(f\"accuracy {accuracy_score(Y,model_output_val)}\")"
   ]
  }
 ],
 "metadata": {
  "kernelspec": {
   "display_name": "Python 3",
   "language": "python",
   "name": "python3"
  },
  "language_info": {
   "codemirror_mode": {
    "name": "ipython",
    "version": 3
   },
   "file_extension": ".py",
   "mimetype": "text/x-python",
   "name": "python",
   "nbconvert_exporter": "python",
   "pygments_lexer": "ipython3",
   "version": "3.12.5"
  }
 },
 "nbformat": 4,
 "nbformat_minor": 5
}
